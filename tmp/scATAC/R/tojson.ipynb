{
 "cells": [
  {
   "cell_type": "code",
   "execution_count": 28,
   "metadata": {},
   "outputs": [
    {
     "data": {
      "text/plain": [
       "'/data5/wmc_data/rice'"
      ]
     },
     "execution_count": 28,
     "metadata": {},
     "output_type": "execute_result"
    }
   ],
   "source": [
    "import os\n",
    "import pandas as pd\n",
    "import json\n",
    "os.getcwd()"
   ]
  },
  {
   "cell_type": "code",
   "execution_count": 57,
   "metadata": {},
   "outputs": [
    {
     "data": {
      "text/html": [
       "<div>\n",
       "<style scoped>\n",
       "    .dataframe tbody tr th:only-of-type {\n",
       "        vertical-align: middle;\n",
       "    }\n",
       "\n",
       "    .dataframe tbody tr th {\n",
       "        vertical-align: top;\n",
       "    }\n",
       "\n",
       "    .dataframe thead th {\n",
       "        text-align: right;\n",
       "    }\n",
       "</style>\n",
       "<table border=\"1\" class=\"dataframe\">\n",
       "  <thead>\n",
       "    <tr style=\"text-align: right;\">\n",
       "      <th></th>\n",
       "      <th>from</th>\n",
       "      <th>to</th>\n",
       "      <th>value</th>\n",
       "      <th>IDsource</th>\n",
       "      <th>IDtarget</th>\n",
       "    </tr>\n",
       "  </thead>\n",
       "  <tbody>\n",
       "    <tr>\n",
       "      <th>0</th>\n",
       "      <td>cim22_C0</td>\n",
       "      <td>C0</td>\n",
       "      <td>66</td>\n",
       "      <td>0</td>\n",
       "      <td>46</td>\n",
       "    </tr>\n",
       "    <tr>\n",
       "      <th>1</th>\n",
       "      <td>cim22_C1</td>\n",
       "      <td>C0</td>\n",
       "      <td>1</td>\n",
       "      <td>1</td>\n",
       "      <td>46</td>\n",
       "    </tr>\n",
       "    <tr>\n",
       "      <th>2</th>\n",
       "      <td>cim22_C10</td>\n",
       "      <td>C0</td>\n",
       "      <td>337</td>\n",
       "      <td>2</td>\n",
       "      <td>46</td>\n",
       "    </tr>\n",
       "    <tr>\n",
       "      <th>3</th>\n",
       "      <td>cim22_C12</td>\n",
       "      <td>C0</td>\n",
       "      <td>15</td>\n",
       "      <td>3</td>\n",
       "      <td>46</td>\n",
       "    </tr>\n",
       "    <tr>\n",
       "      <th>4</th>\n",
       "      <td>cim22_C2</td>\n",
       "      <td>C0</td>\n",
       "      <td>19</td>\n",
       "      <td>4</td>\n",
       "      <td>46</td>\n",
       "    </tr>\n",
       "  </tbody>\n",
       "</table>\n",
       "</div>"
      ],
      "text/plain": [
       "        from  to  value  IDsource  IDtarget\n",
       "0   cim22_C0  C0     66         0        46\n",
       "1   cim22_C1  C0      1         1        46\n",
       "2  cim22_C10  C0    337         2        46\n",
       "3  cim22_C12  C0     15         3        46\n",
       "4   cim22_C2  C0     19         4        46"
      ]
     },
     "execution_count": 57,
     "metadata": {},
     "output_type": "execute_result"
    }
   ],
   "source": [
    "df = pd.read_csv('sankey_scRNA.csv')\n",
    "df=df.rename(columns={'source':'from', 'target':'to'})\n",
    "df.head()"
   ]
  },
  {
   "cell_type": "code",
   "execution_count": 58,
   "metadata": {},
   "outputs": [],
   "source": [
    "df = df[df['from'].str.contains('sim12')]"
   ]
  },
  {
   "cell_type": "code",
   "execution_count": 59,
   "metadata": {},
   "outputs": [],
   "source": [
    "js = json.loads(df[['from', 'to', 'value']].to_json(orient = 'records'))"
   ]
  },
  {
   "cell_type": "code",
   "execution_count": 60,
   "metadata": {},
   "outputs": [],
   "source": [
    "dat = json.dumps(js)\n",
    "with open('./test_data3.json', 'w') as f:\n",
    "    f.write(dat)"
   ]
  },
  {
   "cell_type": "code",
   "execution_count": null,
   "metadata": {},
   "outputs": [],
   "source": [
    "import sys\n",
    "import os\n",
    "\n",
    "def writeinfile(path, cont, line=0):\n",
    "    lines = []\n",
    "    with open(path, 'r', encoding='utf-8') as r:\n",
    "        lines.extend(iter(r))\n",
    "    if line == 0:\n",
    "        lines.insert(0, '{}\\n'.format(cont))\n",
    "    else:\n",
    "        lines.insert(line-1, '{}\\n'.format(cont))\n",
    "    s = ''.join(lines)\n",
    "    # print(s)\n",
    "    with open(path, 'w') as m:\n",
    "        m.write(s)\n",
    "        print('writeInFile Success!')\n",
    "\n",
    "\n",
    "def workit(dir_path, content):\n",
    "    dirpath = dir_path\n",
    "    if filelists := [x for x in os.listdir(dirpath) if x.endswith('.py')]:\n",
    "        print(f'filelist is {filelists}')\n",
    "        filepaths = list(map(lambda x: os.path.join(dirpath, x), filelists))\n",
    "        for f in filepaths:\n",
    "            writeinfile(f, content, 5)\n",
    "    else:\n",
    "        print('nothing to handle!')\n",
    "\n",
    "if __name__ == '__main__':\n",
    "    if len(sys.argv) == 3:\n",
    "        workit(sys.argv[1], sys.argv[2])\n",
    "    elif len(sys.argv) == 2:\n",
    "        workit(sys.argv[1], '#!/usr/bin/env python3')\n",
    "    else:\n",
    "        print(\"-\" * 5, \"Please Input the right Arguments!\\ne.g. Python [xx.py] [filePath] [content]!\", \"-\" * 20)\n",
    "        raise KeyboardInterrupt\n"
   ]
  },
  {
   "cell_type": "code",
   "execution_count": 62,
   "metadata": {},
   "outputs": [],
   "source": [
    "import os\n",
    "import fileinput\n",
    "def file_insert(fname, linenos = None, strings = None):\n",
    "  \"\"\"\n",
    "  Insert several strings to lines with linenos repectively. \n",
    " \n",
    "  The elements in linenos must be in increasing order and len(strings)\n",
    "  must be equal to or less than len(linenos). \n",
    " \n",
    "  The extra lines ( if len(linenos)> len(strings)) will be inserted\n",
    "  with blank line.\n",
    "  \"\"\"\n",
    "  if linenos is None:\n",
    "    linenos = []\n",
    "  if strings is None:\n",
    "    strings = []\n",
    "  if os.path.exists(fname):\n",
    "    i = 0\n",
    "    for lineno, line in enumerate(fileinput.input(fname,inplace=1), start=1):\n",
    "      line = line.strip()\n",
    "      if i<len(linenos) and linenos[i]==lineno:\n",
    "        if i>=len(strings):\n",
    "          print(\"\\n\",line)\n",
    "        else:\n",
    "          print(strings[i])\n",
    "          print(line)\n",
    "        i += 1\n",
    "      else:\n",
    "        print (line)"
   ]
  },
  {
   "cell_type": "code",
   "execution_count": 87,
   "metadata": {},
   "outputs": [],
   "source": [
    "import subprocess\n",
    "tmp = subprocess.run([\"cat\", \"osSankey/test_data2.json\"], \n",
    "                     capture_output=True)\n",
    "\n",
    "inst = f'chart.data = {tmp.stdout.decode()}'"
   ]
  },
  {
   "cell_type": "code",
   "execution_count": 88,
   "metadata": {},
   "outputs": [
    {
     "data": {
      "text/plain": [
       "'hart.data = [{\"from\": \"sim4_C0\", \"to\": \"C0\", \"val'"
      ]
     },
     "execution_count": 88,
     "metadata": {},
     "output_type": "execute_result"
    }
   ],
   "source": [
    "inst[1:50]"
   ]
  },
  {
   "cell_type": "code",
   "execution_count": 89,
   "metadata": {},
   "outputs": [],
   "source": [
    "file_insert('./osSankey/sankey_sim4.html',[30],[inst])"
   ]
  }
 ],
 "metadata": {
  "interpreter": {
   "hash": "6bfbf5738032ebec01c0d444821bf8edc1c18795b97d5206441e78fb2c63ccb5"
  },
  "kernelspec": {
   "display_name": "Python 3.9.6 64-bit",
   "language": "python",
   "name": "python3"
  },
  "language_info": {
   "codemirror_mode": {
    "name": "ipython",
    "version": 3
   },
   "file_extension": ".py",
   "mimetype": "text/x-python",
   "name": "python",
   "nbconvert_exporter": "python",
   "pygments_lexer": "ipython3",
   "version": "3.9.6"
  },
  "orig_nbformat": 4
 },
 "nbformat": 4,
 "nbformat_minor": 2
}
