{
 "cells": [
  {
   "cell_type": "code",
   "execution_count": null,
   "metadata": {},
   "outputs": [],
   "source": [
    "import os\n",
    "os.getcwd()"
   ]
  },
  {
   "cell_type": "code",
   "execution_count": null,
   "metadata": {},
   "outputs": [],
   "source": [
    "dd = {}\n",
    "for line in open('../RAP_ID.txt'):\n",
    "    dd[line.strip()] = None\n",
    "\n",
    "gl = [line.strip() for line in open('../OS_At.txt')]"
   ]
  },
  {
   "cell_type": "code",
   "execution_count": null,
   "metadata": {},
   "outputs": [],
   "source": [
    "for k in dd.keys():\n",
    "    tt = []\n",
    "    for i in gl:\n",
    "        if k in i:\n",
    "            tt += i.split('\\t')[1::]\n",
    "    if len(tt) != 0:\n",
    "        dd[k] = '\\t'.join({}.fromkeys(tt).keys())"
   ]
  },
  {
   "cell_type": "code",
   "execution_count": null,
   "metadata": {},
   "outputs": [],
   "source": [
    "with open('../OS_AT2.csv', 'w') as f:\n",
    "    [f.write('{0},{1}\\n'.format(k, v)) for k, v in dd.items() if v != None]"
   ]
  }
 ],
 "metadata": {
  "interpreter": {
   "hash": "6bfbf5738032ebec01c0d444821bf8edc1c18795b97d5206441e78fb2c63ccb5"
  },
  "kernelspec": {
   "display_name": "Python 3.9.6 64-bit",
   "language": "python",
   "name": "python3"
  },
  "language_info": {
   "codemirror_mode": {
    "name": "ipython",
    "version": 3
   },
   "file_extension": ".py",
   "mimetype": "text/x-python",
   "name": "python",
   "nbconvert_exporter": "python",
   "pygments_lexer": "ipython3",
   "version": "3.9.6"
  },
  "orig_nbformat": 4
 },
 "nbformat": 4,
 "nbformat_minor": 2
}
