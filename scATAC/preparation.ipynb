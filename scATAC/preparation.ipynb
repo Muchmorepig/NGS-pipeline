{
 "cells": [
  {
   "cell_type": "code",
   "execution_count": 7,
   "metadata": {},
   "outputs": [],
   "source": [
    "from collections import defaultdict\n",
    "import re"
   ]
  },
  {
   "cell_type": "code",
   "execution_count": 1,
   "metadata": {},
   "outputs": [],
   "source": []
  },
  {
   "cell_type": "code",
   "execution_count": 39,
   "metadata": {},
   "outputs": [],
   "source": [
    "# gene 列表\n",
    "gene_list = []\n",
    "\n",
    "# 记录gene的详细信息: [ chr, start, end score, strand, phase]\n",
    "gene_info = defaultdict(list) \n",
    "locus_file = \"IRGSP/locus.gff\"\n",
    "for line in open(locus_file):\n",
    "    line = line.strip()\n",
    "    items =  line.split('\\t')\n",
    "    chrom = items[0].replace('0','').replace('c','C')\n",
    "    start,end = items[3:5]\n",
    "    score,strand,phase = items[5:8]\n",
    "    gene_ID = re.findall( 'ID=(.*?);', items[8] )[0]\n",
    "    gene_list.append(gene_ID)\n",
    "    gene_info[gene_ID] =  [chrom, start, end, score, strand, phase] "
   ]
  },
  {
   "cell_type": "code",
   "execution_count": 109,
   "metadata": {},
   "outputs": [],
   "source": [
    "#  记录mRNA的元件信息\n",
    "# {mRNA_ID:  [ [type(UTR, CDS), chr, start, end score, strand, phase] ] }\n",
    "mRNA_exon = defaultdict(list) #\n",
    "\n",
    "#  记录gene 和 mRNA的对应关系 {gene_ID: [ [mRNA_ID, chr, start, end score, strand, phase] ]}\n",
    "gene_mRNA = defaultdict(list) \n",
    "\n",
    "transcript_file = \"IRGSP/transcripts.gff\"\n",
    "\n",
    "for line in open(transcript_file):\n",
    "    line = line.strip()\n",
    "    items =  line.split('\\t')\n",
    "    chrom = items[0].replace('0','').replace('c','C')\n",
    "    start,end = items[3:5]\n",
    "    score,strand,phase = items[5:8]\n",
    "    feature_type = items[2]\n",
    "    if feature_type == 'mRNA':\n",
    "        mRNA_ID = re.findall( 'ID=(.*?);', items[8] )[0]\n",
    "        mRNA_parent = re.findall( 'Locus_id=(.*?);', items[8] )[0]\n",
    "        gene_mRNA[mRNA_parent].append( [ mRNA_ID, chrom, start, end, score, strand, phase ]  )\n",
    "    else:\n",
    "        exon_parent = re.findall( 'Parent=(.*)', items[8] )[0]\n",
    "        mRNA_exon[exon_parent].append( [ feature_type, chrom, start, end, score, strand, phase] )\n",
    "\n"
   ]
  },
  {
   "cell_type": "code",
   "execution_count": null,
   "metadata": {},
   "outputs": [],
   "source": [
    "# write the result"
   ]
  },
  {
   "cell_type": "code",
   "execution_count": 145,
   "metadata": {},
   "outputs": [],
   "source": [
    "gff_line = \"IRGSP_v1.gff\""
   ]
  },
  {
   "cell_type": "code",
   "execution_count": 146,
   "metadata": {},
   "outputs": [],
   "source": [
    "f = open(gff_line,\"w\")"
   ]
  },
  {
   "cell_type": "code",
   "execution_count": 147,
   "metadata": {},
   "outputs": [],
   "source": [
    "for gene in gene_list:\n",
    "\n",
    "    # write the gene line\n",
    "    chrom, start, end, score, strand, phase = gene_info[gene]\n",
    "    line = f'{chrom}\\tirgsp1_rep\\tgene\\t{start}\\t{end}\\t{score}\\t{strand}\\t{phase}\\tID={gene};Name={gene}\\n'\n",
    "    f.write(line)\n",
    "    # write mRNA line\n",
    "    mRNA_infos = gene_mRNA[gene]\n",
    "    for mRNA_info in mRNA_infos:\n",
    "        mRNA_ID, chrom, start, end, score, strand, phase = mRNA_info\n",
    "        line = f'{chrom}\\tirgsp1_rep\\tmRNA\\t{start}\\t{end}\\t{score}\\t{strand}\\t{phase}\\tID={mRNA_ID};Parent={gene};Name={mRNA_ID}\\n'\n",
    "        f.write(line)\n",
    "        # write the exon line\n",
    "        exon_infos = mRNA_exon[mRNA_ID]\n",
    "        feature_count = defaultdict(int)\n",
    "        for exon_info in exon_infos:\n",
    "            feature_type, chrom, start, end, score, strand, phase = exon_info\n",
    "\n",
    "            # write the feature other than exon \n",
    "            feature_count[feature_type] += 1\n",
    "            exon_name = f\"{mRNA_ID}:{feature_type}:{feature_count[feature_type]}\"\n",
    "            line = f'{chrom}\\tirgsp1_rep\\t{feature_type}\\t{start}\\t{end}\\t{score}\\t{strand}\\t{phase}\\tID={exon_name};Parent={mRNA_ID};Name={exon_name}\\n'\n",
    "            f.write(line)           \n",
    "            \n",
    "            # add exon\n",
    "            feature_count[\"exon\"] += 1\n",
    "            exon_name = f'{mRNA_ID}:{feature_type}:{feature_count[\"exon\"]}'\n",
    "            line = f'{chrom}\\tirgsp1_rep\\texon\\t{start}\\t{end}\\t{score}\\t{strand}\\t{phase}\\tID={exon_name};Parent={mRNA_ID};Name={exon_name}\\n'\n",
    "            f.write(line) \n",
    "            \n"
   ]
  },
  {
   "cell_type": "code",
   "execution_count": 148,
   "metadata": {},
   "outputs": [],
   "source": [
    "f.close()"
   ]
  }
 ],
 "metadata": {
  "interpreter": {
   "hash": "50ba5714cbb2c85b6c134d509f713730032d330baca00c0f3e863bb35eaffbb3"
  },
  "kernelspec": {
   "display_name": "Python 3.7.11 ('base')",
   "language": "python",
   "name": "python3"
  },
  "language_info": {
   "codemirror_mode": {
    "name": "ipython",
    "version": 3
   },
   "file_extension": ".py",
   "mimetype": "text/x-python",
   "name": "python",
   "nbconvert_exporter": "python",
   "pygments_lexer": "ipython3",
   "version": "3.7.11"
  },
  "orig_nbformat": 4
 },
 "nbformat": 4,
 "nbformat_minor": 2
}
