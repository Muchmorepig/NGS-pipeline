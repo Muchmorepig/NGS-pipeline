{
 "cells": [
  {
   "cell_type": "code",
   "execution_count": null,
   "metadata": {},
   "outputs": [],
   "source": [
    "import pathlib\n",
    "from Bio import motifs\n",
    "\n",
    "folder_path = pathlib.Path('jaspar/individual')  # 文件夹路径\n",
    "file_pattern = '*.jaspar'  # 文件名模式\n",
    "\n",
    "# 获取所有符合条件的文件\n",
    "file_paths = folder_path.glob(file_pattern)\n",
    "\n",
    "# 提取文件前缀并作为一个列表\n",
    "file_name_prefixes = [file_path.stem for file_path in file_paths]\n",
    "\n",
    "\n",
    "for i in range(0, len(file_name_prefixes), 11):\n",
    "    print(file_name_prefixes[i:i+11])\n",
    "\n",
    "# 遍历文件夹中的文件并更改格式并保存\n",
    "for file_path in folder_path.glob(file_pattern):\n",
    "    file_name_prefix = file_path.stem\n",
    "    with open(f'motifs_cb_jaspar/{file_name_prefix}.cb', 'w+') as m:\n",
    "        mo = motifs.read(open(file_path), fmt='jaspar')\n",
    "        m.write(mo.format('clusterbuster'))"
   ]
  },
  {
   "cell_type": "code",
   "execution_count": 22,
   "metadata": {},
   "outputs": [],
   "source": [
    "\n",
    "input_file = 'M00008_2.00.txt'\n",
    "output_file = 'M00008_2.00.cb'\n",
    "\n",
    "motif_id = ''\n",
    "pwm = []\n",
    "\n",
    "with open(input_file, 'r') as f:\n",
    "    next(f)  # 跳过第一行\n",
    "    for line in f:\n",
    "        line = line.strip()\n",
    "        \n",
    "        # 解析 PWM 行\n",
    "        row_data = line.split('\\t')\n",
    "        row = [int(float(x) * 100) for x in row_data[1:]]\n",
    "        pwm.append(row)\n",
    "\n",
    "# 写入转换后的 pwm 文件\n",
    "with open(output_file, 'w') as f:\n",
    "    f.write(f'>{motif_id}\\n')\n",
    "    for row in pwm:\n",
    "        f.write('\\t'.join([str(x) for x in row]) + '\\n')"
   ]
  }
 ],
 "metadata": {
  "kernelspec": {
   "display_name": "soul",
   "language": "python",
   "name": "python3"
  },
  "language_info": {
   "codemirror_mode": {
    "name": "ipython",
    "version": 3
   },
   "file_extension": ".py",
   "mimetype": "text/x-python",
   "name": "python",
   "nbconvert_exporter": "python",
   "pygments_lexer": "ipython3",
   "version": "3.10.11"
  },
  "orig_nbformat": 4
 },
 "nbformat": 4,
 "nbformat_minor": 2
}
